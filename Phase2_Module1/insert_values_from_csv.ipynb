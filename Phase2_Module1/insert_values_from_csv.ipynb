{
 "cells": [
  {
   "cell_type": "code",
   "execution_count": 16,
   "metadata": {
    "ExecuteTime": {
     "end_time": "2021-07-07T00:52:17.972528Z",
     "start_time": "2021-07-07T00:52:13.592337Z"
    }
   },
   "outputs": [
    {
     "name": "stdout",
     "output_type": "stream",
     "text": [
      "Collecting pymysql\n",
      "  Downloading PyMySQL-1.0.2-py3-none-any.whl (43 kB)\n",
      "\u001b[K     |████████████████████████████████| 43 kB 482 kB/s eta 0:00:011\n",
      "\u001b[?25hInstalling collected packages: pymysql\n",
      "Successfully installed pymysql-1.0.2\n"
     ]
    }
   ],
   "source": [
    "!pip install pymysql"
   ]
  },
  {
   "cell_type": "code",
   "execution_count": 30,
   "metadata": {
    "ExecuteTime": {
     "end_time": "2021-07-07T02:02:31.630680Z",
     "start_time": "2021-07-07T02:02:31.627848Z"
    }
   },
   "outputs": [],
   "source": [
    "import pandas as pd\n",
    "import pymysql"
   ]
  },
  {
   "cell_type": "markdown",
   "metadata": {},
   "source": [
    "### 1. extract records (rows)"
   ]
  },
  {
   "cell_type": "markdown",
   "metadata": {},
   "source": [
    "#### 1.1 area_table"
   ]
  },
  {
   "cell_type": "code",
   "execution_count": 31,
   "metadata": {
    "ExecuteTime": {
     "end_time": "2021-07-07T02:02:34.027583Z",
     "start_time": "2021-07-07T02:02:34.005759Z"
    }
   },
   "outputs": [
    {
     "data": {
      "text/html": [
       "<div>\n",
       "<style scoped>\n",
       "    .dataframe tbody tr th:only-of-type {\n",
       "        vertical-align: middle;\n",
       "    }\n",
       "\n",
       "    .dataframe tbody tr th {\n",
       "        vertical-align: top;\n",
       "    }\n",
       "\n",
       "    .dataframe thead th {\n",
       "        text-align: right;\n",
       "    }\n",
       "</style>\n",
       "<table border=\"1\" class=\"dataframe\">\n",
       "  <thead>\n",
       "    <tr style=\"text-align: right;\">\n",
       "      <th></th>\n",
       "      <th>store_id</th>\n",
       "      <th>area</th>\n",
       "      <th>leader_id</th>\n",
       "    </tr>\n",
       "  </thead>\n",
       "  <tbody>\n",
       "    <tr>\n",
       "      <th>0</th>\n",
       "      <td>store1</td>\n",
       "      <td>alpha</td>\n",
       "      <td>139844</td>\n",
       "    </tr>\n",
       "    <tr>\n",
       "      <th>1</th>\n",
       "      <td>store2</td>\n",
       "      <td>alpha</td>\n",
       "      <td>44311</td>\n",
       "    </tr>\n",
       "    <tr>\n",
       "      <th>2</th>\n",
       "      <td>store3</td>\n",
       "      <td>alpha</td>\n",
       "      <td>951837</td>\n",
       "    </tr>\n",
       "    <tr>\n",
       "      <th>3</th>\n",
       "      <td>store4</td>\n",
       "      <td>alpha</td>\n",
       "      <td>298987</td>\n",
       "    </tr>\n",
       "    <tr>\n",
       "      <th>4</th>\n",
       "      <td>store5</td>\n",
       "      <td>beta</td>\n",
       "      <td>774548</td>\n",
       "    </tr>\n",
       "    <tr>\n",
       "      <th>5</th>\n",
       "      <td>store6</td>\n",
       "      <td>beta</td>\n",
       "      <td>974663</td>\n",
       "    </tr>\n",
       "    <tr>\n",
       "      <th>6</th>\n",
       "      <td>store7</td>\n",
       "      <td>beta</td>\n",
       "      <td>550242</td>\n",
       "    </tr>\n",
       "    <tr>\n",
       "      <th>7</th>\n",
       "      <td>store8</td>\n",
       "      <td>beta</td>\n",
       "      <td>735906</td>\n",
       "    </tr>\n",
       "    <tr>\n",
       "      <th>8</th>\n",
       "      <td>store9</td>\n",
       "      <td>beta</td>\n",
       "      <td>813931</td>\n",
       "    </tr>\n",
       "    <tr>\n",
       "      <th>9</th>\n",
       "      <td>store10</td>\n",
       "      <td>beta</td>\n",
       "      <td>269966</td>\n",
       "    </tr>\n",
       "    <tr>\n",
       "      <th>10</th>\n",
       "      <td>store11</td>\n",
       "      <td>beta</td>\n",
       "      <td>442066</td>\n",
       "    </tr>\n",
       "    <tr>\n",
       "      <th>11</th>\n",
       "      <td>store12</td>\n",
       "      <td>gamma</td>\n",
       "      <td>52404</td>\n",
       "    </tr>\n",
       "    <tr>\n",
       "      <th>12</th>\n",
       "      <td>store13</td>\n",
       "      <td>gamma</td>\n",
       "      <td>250697</td>\n",
       "    </tr>\n",
       "    <tr>\n",
       "      <th>13</th>\n",
       "      <td>store14</td>\n",
       "      <td>gamma</td>\n",
       "      <td>733530</td>\n",
       "    </tr>\n",
       "    <tr>\n",
       "      <th>14</th>\n",
       "      <td>store15</td>\n",
       "      <td>gamma</td>\n",
       "      <td>356103</td>\n",
       "    </tr>\n",
       "    <tr>\n",
       "      <th>15</th>\n",
       "      <td>store16</td>\n",
       "      <td>gamma</td>\n",
       "      <td>770287</td>\n",
       "    </tr>\n",
       "  </tbody>\n",
       "</table>\n",
       "</div>"
      ],
      "text/plain": [
       "   store_id   area  leader_id\n",
       "0    store1  alpha     139844\n",
       "1    store2  alpha      44311\n",
       "2    store3  alpha     951837\n",
       "3    store4  alpha     298987\n",
       "4    store5   beta     774548\n",
       "5    store6   beta     974663\n",
       "6    store7   beta     550242\n",
       "7    store8   beta     735906\n",
       "8    store9   beta     813931\n",
       "9   store10   beta     269966\n",
       "10  store11   beta     442066\n",
       "11  store12  gamma      52404\n",
       "12  store13  gamma     250697\n",
       "13  store14  gamma     733530\n",
       "14  store15  gamma     356103\n",
       "15  store16  gamma     770287"
      ]
     },
     "execution_count": 31,
     "metadata": {},
     "output_type": "execute_result"
    }
   ],
   "source": [
    "area = pd.read_csv('area.csv')\n",
    "area"
   ]
  },
  {
   "cell_type": "code",
   "execution_count": 32,
   "metadata": {
    "ExecuteTime": {
     "end_time": "2021-07-07T02:02:34.876187Z",
     "start_time": "2021-07-07T02:02:34.870398Z"
    }
   },
   "outputs": [
    {
     "data": {
      "text/plain": [
       "[('store1', 'alpha', 139844),\n",
       " ('store2', 'alpha', 44311),\n",
       " ('store3', 'alpha', 951837),\n",
       " ('store4', 'alpha', 298987),\n",
       " ('store5', 'beta', 774548),\n",
       " ('store6', 'beta', 974663),\n",
       " ('store7', 'beta', 550242),\n",
       " ('store8', 'beta', 735906),\n",
       " ('store9', 'beta', 813931),\n",
       " ('store10', 'beta', 269966),\n",
       " ('store11', 'beta', 442066),\n",
       " ('store12', 'gamma', 52404),\n",
       " ('store13', 'gamma', 250697),\n",
       " ('store14', 'gamma', 733530),\n",
       " ('store15', 'gamma', 356103),\n",
       " ('store16', 'gamma', 770287)]"
      ]
     },
     "execution_count": 32,
     "metadata": {},
     "output_type": "execute_result"
    }
   ],
   "source": [
    "area_records = area.to_records(index=False).tolist()\n",
    "area_records"
   ]
  },
  {
   "cell_type": "markdown",
   "metadata": {},
   "source": [
    "#### 1.2 store_table"
   ]
  },
  {
   "cell_type": "code",
   "execution_count": 50,
   "metadata": {
    "ExecuteTime": {
     "end_time": "2021-07-07T02:09:51.899076Z",
     "start_time": "2021-07-07T02:09:51.882996Z"
    },
    "scrolled": true
   },
   "outputs": [
    {
     "data": {
      "text/html": [
       "<div>\n",
       "<style scoped>\n",
       "    .dataframe tbody tr th:only-of-type {\n",
       "        vertical-align: middle;\n",
       "    }\n",
       "\n",
       "    .dataframe tbody tr th {\n",
       "        vertical-align: top;\n",
       "    }\n",
       "\n",
       "    .dataframe thead th {\n",
       "        text-align: right;\n",
       "    }\n",
       "</style>\n",
       "<table border=\"1\" class=\"dataframe\">\n",
       "  <thead>\n",
       "    <tr style=\"text-align: right;\">\n",
       "      <th></th>\n",
       "      <th>store_id</th>\n",
       "      <th>order_id</th>\n",
       "      <th>sales_volume</th>\n",
       "      <th>salesdate</th>\n",
       "    </tr>\n",
       "  </thead>\n",
       "  <tbody>\n",
       "    <tr>\n",
       "      <th>0</th>\n",
       "      <td>store8</td>\n",
       "      <td>89948724</td>\n",
       "      <td>499</td>\n",
       "      <td>25/6/21</td>\n",
       "    </tr>\n",
       "    <tr>\n",
       "      <th>1</th>\n",
       "      <td>store1</td>\n",
       "      <td>89948725</td>\n",
       "      <td>617</td>\n",
       "      <td>25/6/21</td>\n",
       "    </tr>\n",
       "    <tr>\n",
       "      <th>2</th>\n",
       "      <td>store9</td>\n",
       "      <td>89948726</td>\n",
       "      <td>569</td>\n",
       "      <td>25/6/21</td>\n",
       "    </tr>\n",
       "    <tr>\n",
       "      <th>3</th>\n",
       "      <td>store3</td>\n",
       "      <td>89948727</td>\n",
       "      <td>579</td>\n",
       "      <td>25/6/21</td>\n",
       "    </tr>\n",
       "    <tr>\n",
       "      <th>4</th>\n",
       "      <td>store1</td>\n",
       "      <td>89948728</td>\n",
       "      <td>76</td>\n",
       "      <td>25/6/21</td>\n",
       "    </tr>\n",
       "    <tr>\n",
       "      <th>...</th>\n",
       "      <td>...</td>\n",
       "      <td>...</td>\n",
       "      <td>...</td>\n",
       "      <td>...</td>\n",
       "    </tr>\n",
       "    <tr>\n",
       "      <th>92</th>\n",
       "      <td>store1</td>\n",
       "      <td>89948816</td>\n",
       "      <td>43</td>\n",
       "      <td>6/7/21</td>\n",
       "    </tr>\n",
       "    <tr>\n",
       "      <th>93</th>\n",
       "      <td>store4</td>\n",
       "      <td>89948817</td>\n",
       "      <td>720</td>\n",
       "      <td>6/7/21</td>\n",
       "    </tr>\n",
       "    <tr>\n",
       "      <th>94</th>\n",
       "      <td>store2</td>\n",
       "      <td>89948818</td>\n",
       "      <td>163</td>\n",
       "      <td>6/7/21</td>\n",
       "    </tr>\n",
       "    <tr>\n",
       "      <th>95</th>\n",
       "      <td>store8</td>\n",
       "      <td>89948819</td>\n",
       "      <td>663</td>\n",
       "      <td>6/7/21</td>\n",
       "    </tr>\n",
       "    <tr>\n",
       "      <th>96</th>\n",
       "      <td>store6</td>\n",
       "      <td>89948820</td>\n",
       "      <td>23</td>\n",
       "      <td>6/7/21</td>\n",
       "    </tr>\n",
       "  </tbody>\n",
       "</table>\n",
       "<p>97 rows × 4 columns</p>\n",
       "</div>"
      ],
      "text/plain": [
       "   store_id  order_id  sales_volume salesdate\n",
       "0    store8  89948724           499   25/6/21\n",
       "1    store1  89948725           617   25/6/21\n",
       "2    store9  89948726           569   25/6/21\n",
       "3    store3  89948727           579   25/6/21\n",
       "4    store1  89948728            76   25/6/21\n",
       "..      ...       ...           ...       ...\n",
       "92   store1  89948816            43    6/7/21\n",
       "93   store4  89948817           720    6/7/21\n",
       "94   store2  89948818           163    6/7/21\n",
       "95   store8  89948819           663    6/7/21\n",
       "96   store6  89948820            23    6/7/21\n",
       "\n",
       "[97 rows x 4 columns]"
      ]
     },
     "execution_count": 50,
     "metadata": {},
     "output_type": "execute_result"
    }
   ],
   "source": [
    "store = pd.read_csv('store.csv')\n",
    "store"
   ]
  },
  {
   "cell_type": "code",
   "execution_count": 51,
   "metadata": {
    "ExecuteTime": {
     "end_time": "2021-07-07T02:09:53.138788Z",
     "start_time": "2021-07-07T02:09:53.134134Z"
    }
   },
   "outputs": [],
   "source": [
    "def date_formatting(date_str):\n",
    "    d, m, y = date_str.split('/')[0],  date_str.split('/')[1],  date_str.split('/')[2]\n",
    "    if len(d) == 1:\n",
    "        d = \"0\" + d\n",
    "    if len(m) == 1:\n",
    "        m = \"0\" + m\n",
    "    formatted = '20'+y+'-'+m+'-'+d\n",
    "    return formatted"
   ]
  },
  {
   "cell_type": "code",
   "execution_count": 52,
   "metadata": {
    "ExecuteTime": {
     "end_time": "2021-07-07T02:09:54.726577Z",
     "start_time": "2021-07-07T02:09:54.722852Z"
    }
   },
   "outputs": [
    {
     "data": {
      "text/plain": [
       "'2021-07-06'"
      ]
     },
     "execution_count": 52,
     "metadata": {},
     "output_type": "execute_result"
    }
   ],
   "source": [
    "date_formatting('6/7/21')"
   ]
  },
  {
   "cell_type": "code",
   "execution_count": 54,
   "metadata": {
    "ExecuteTime": {
     "end_time": "2021-07-07T02:10:06.685259Z",
     "start_time": "2021-07-07T02:10:06.680348Z"
    }
   },
   "outputs": [],
   "source": [
    "store['salesdate'] = store['salesdate'].apply(date_formatting)"
   ]
  },
  {
   "cell_type": "code",
   "execution_count": 55,
   "metadata": {
    "ExecuteTime": {
     "end_time": "2021-07-07T02:10:19.935226Z",
     "start_time": "2021-07-07T02:10:19.922850Z"
    }
   },
   "outputs": [
    {
     "data": {
      "text/html": [
       "<div>\n",
       "<style scoped>\n",
       "    .dataframe tbody tr th:only-of-type {\n",
       "        vertical-align: middle;\n",
       "    }\n",
       "\n",
       "    .dataframe tbody tr th {\n",
       "        vertical-align: top;\n",
       "    }\n",
       "\n",
       "    .dataframe thead th {\n",
       "        text-align: right;\n",
       "    }\n",
       "</style>\n",
       "<table border=\"1\" class=\"dataframe\">\n",
       "  <thead>\n",
       "    <tr style=\"text-align: right;\">\n",
       "      <th></th>\n",
       "      <th>store_id</th>\n",
       "      <th>order_id</th>\n",
       "      <th>sales_volume</th>\n",
       "      <th>salesdate</th>\n",
       "    </tr>\n",
       "  </thead>\n",
       "  <tbody>\n",
       "    <tr>\n",
       "      <th>0</th>\n",
       "      <td>store8</td>\n",
       "      <td>89948724</td>\n",
       "      <td>499</td>\n",
       "      <td>2021-06-25</td>\n",
       "    </tr>\n",
       "    <tr>\n",
       "      <th>1</th>\n",
       "      <td>store1</td>\n",
       "      <td>89948725</td>\n",
       "      <td>617</td>\n",
       "      <td>2021-06-25</td>\n",
       "    </tr>\n",
       "    <tr>\n",
       "      <th>2</th>\n",
       "      <td>store9</td>\n",
       "      <td>89948726</td>\n",
       "      <td>569</td>\n",
       "      <td>2021-06-25</td>\n",
       "    </tr>\n",
       "    <tr>\n",
       "      <th>3</th>\n",
       "      <td>store3</td>\n",
       "      <td>89948727</td>\n",
       "      <td>579</td>\n",
       "      <td>2021-06-25</td>\n",
       "    </tr>\n",
       "    <tr>\n",
       "      <th>4</th>\n",
       "      <td>store1</td>\n",
       "      <td>89948728</td>\n",
       "      <td>76</td>\n",
       "      <td>2021-06-25</td>\n",
       "    </tr>\n",
       "    <tr>\n",
       "      <th>...</th>\n",
       "      <td>...</td>\n",
       "      <td>...</td>\n",
       "      <td>...</td>\n",
       "      <td>...</td>\n",
       "    </tr>\n",
       "    <tr>\n",
       "      <th>92</th>\n",
       "      <td>store1</td>\n",
       "      <td>89948816</td>\n",
       "      <td>43</td>\n",
       "      <td>2021-07-06</td>\n",
       "    </tr>\n",
       "    <tr>\n",
       "      <th>93</th>\n",
       "      <td>store4</td>\n",
       "      <td>89948817</td>\n",
       "      <td>720</td>\n",
       "      <td>2021-07-06</td>\n",
       "    </tr>\n",
       "    <tr>\n",
       "      <th>94</th>\n",
       "      <td>store2</td>\n",
       "      <td>89948818</td>\n",
       "      <td>163</td>\n",
       "      <td>2021-07-06</td>\n",
       "    </tr>\n",
       "    <tr>\n",
       "      <th>95</th>\n",
       "      <td>store8</td>\n",
       "      <td>89948819</td>\n",
       "      <td>663</td>\n",
       "      <td>2021-07-06</td>\n",
       "    </tr>\n",
       "    <tr>\n",
       "      <th>96</th>\n",
       "      <td>store6</td>\n",
       "      <td>89948820</td>\n",
       "      <td>23</td>\n",
       "      <td>2021-07-06</td>\n",
       "    </tr>\n",
       "  </tbody>\n",
       "</table>\n",
       "<p>97 rows × 4 columns</p>\n",
       "</div>"
      ],
      "text/plain": [
       "   store_id  order_id  sales_volume   salesdate\n",
       "0    store8  89948724           499  2021-06-25\n",
       "1    store1  89948725           617  2021-06-25\n",
       "2    store9  89948726           569  2021-06-25\n",
       "3    store3  89948727           579  2021-06-25\n",
       "4    store1  89948728            76  2021-06-25\n",
       "..      ...       ...           ...         ...\n",
       "92   store1  89948816            43  2021-07-06\n",
       "93   store4  89948817           720  2021-07-06\n",
       "94   store2  89948818           163  2021-07-06\n",
       "95   store8  89948819           663  2021-07-06\n",
       "96   store6  89948820            23  2021-07-06\n",
       "\n",
       "[97 rows x 4 columns]"
      ]
     },
     "execution_count": 55,
     "metadata": {},
     "output_type": "execute_result"
    }
   ],
   "source": [
    "store"
   ]
  },
  {
   "cell_type": "code",
   "execution_count": 56,
   "metadata": {
    "ExecuteTime": {
     "end_time": "2021-07-07T02:10:33.993514Z",
     "start_time": "2021-07-07T02:10:33.980514Z"
    }
   },
   "outputs": [
    {
     "data": {
      "text/plain": [
       "[('store8', 89948724, 499, '2021-06-25'),\n",
       " ('store1', 89948725, 617, '2021-06-25'),\n",
       " ('store9', 89948726, 569, '2021-06-25'),\n",
       " ('store3', 89948727, 579, '2021-06-25'),\n",
       " ('store1', 89948728, 76, '2021-06-25'),\n",
       " ('store7', 89948729, 228, '2021-06-25'),\n",
       " ('store2', 89948730, 557, '2021-06-26'),\n",
       " ('store6', 89948731, 177, '2021-06-26'),\n",
       " ('store10', 89948732, 18, '2021-06-26'),\n",
       " ('store7', 89948733, 309, '2021-06-26'),\n",
       " ('store1', 89948734, 984, '2021-06-26'),\n",
       " ('store1', 89948735, 999, '2021-06-26'),\n",
       " ('store1', 89948736, 163, '2021-06-26'),\n",
       " ('store1', 89948737, 206, '2021-06-26'),\n",
       " ('store5', 89948738, 977, '2021-06-26'),\n",
       " ('store6', 89948739, 884, '2021-06-26'),\n",
       " ('store1', 89948740, 185, '2021-06-26'),\n",
       " ('store2', 89948741, 37, '2021-06-27'),\n",
       " ('store3', 89948742, 565, '2021-06-27'),\n",
       " ('store3', 89948743, 295, '2021-06-27'),\n",
       " ('store6', 89948744, 985, '2021-06-27'),\n",
       " ('store8', 89948745, 874, '2021-06-27'),\n",
       " ('store4', 89948746, 837, '2021-06-27'),\n",
       " ('store2', 89948747, 754, '2021-06-27'),\n",
       " ('store2', 89948748, 167, '2021-06-28'),\n",
       " ('store9', 89948749, 81, '2021-06-28'),\n",
       " ('store1', 89948750, 648, '2021-06-28'),\n",
       " ('store4', 89948751, 651, '2021-06-28'),\n",
       " ('store10', 89948752, 616, '2021-06-28'),\n",
       " ('store7', 89948753, 643, '2021-06-28'),\n",
       " ('store3', 89948754, 654, '2021-06-28'),\n",
       " ('store10', 89948755, 185, '2021-06-28'),\n",
       " ('store5', 89948756, 2, '2021-06-28'),\n",
       " ('store5', 89948757, 448, '2021-06-29'),\n",
       " ('store6', 89948758, 732, '2021-06-29'),\n",
       " ('store4', 89948759, 112, '2021-06-29'),\n",
       " ('store10', 89948760, 893, '2021-06-29'),\n",
       " ('store10', 89948761, 665, '2021-06-29'),\n",
       " ('store10', 89948762, 301, '2021-06-29'),\n",
       " ('store5', 89948763, 161, '2021-06-30'),\n",
       " ('store6', 89948764, 268, '2021-06-30'),\n",
       " ('store3', 89948765, 84, '2021-06-30'),\n",
       " ('store2', 89948766, 636, '2021-06-30'),\n",
       " ('store5', 89948767, 789, '2021-06-30'),\n",
       " ('store7', 89948768, 920, '2021-06-30'),\n",
       " ('store10', 89948769, 930, '2021-06-30'),\n",
       " ('store3', 89948770, 518, '2021-06-30'),\n",
       " ('store5', 89948771, 970, '2021-06-30'),\n",
       " ('store9', 89948772, 762, '2021-07-01'),\n",
       " ('store10', 89948773, 9, '2021-07-01'),\n",
       " ('store9', 89948774, 194, '2021-07-01'),\n",
       " ('store9', 89948775, 253, '2021-07-01'),\n",
       " ('store7', 89948776, 723, '2021-07-01'),\n",
       " ('store7', 89948777, 911, '2021-07-01'),\n",
       " ('store8', 89948778, 335, '2021-07-01'),\n",
       " ('store1', 89948779, 7, '2021-07-02'),\n",
       " ('store6', 89948780, 368, '2021-07-02'),\n",
       " ('store1', 89948781, 948, '2021-07-02'),\n",
       " ('store5', 89948782, 855, '2021-07-02'),\n",
       " ('store6', 89948783, 870, '2021-07-02'),\n",
       " ('store3', 89948784, 189, '2021-07-02'),\n",
       " ('store9', 89948785, 132, '2021-07-02'),\n",
       " ('store8', 89948786, 137, '2021-07-02'),\n",
       " ('store1', 89948787, 728, '2021-07-02'),\n",
       " ('store5', 89948788, 376, '2021-07-03'),\n",
       " ('store8', 89948789, 882, '2021-07-03'),\n",
       " ('store7', 89948790, 187, '2021-07-03'),\n",
       " ('store2', 89948791, 489, '2021-07-03'),\n",
       " ('store3', 89948792, 639, '2021-07-03'),\n",
       " ('store1', 89948793, 558, '2021-07-03'),\n",
       " ('store3', 89948794, 487, '2021-07-03'),\n",
       " ('store2', 89948795, 719, '2021-07-04'),\n",
       " ('store9', 89948796, 652, '2021-07-04'),\n",
       " ('store9', 89948797, 703, '2021-07-04'),\n",
       " ('store6', 89948798, 340, '2021-07-04'),\n",
       " ('store7', 89948799, 510, '2021-07-04'),\n",
       " ('store8', 89948800, 701, '2021-07-04'),\n",
       " ('store1', 89948801, 52, '2021-07-04'),\n",
       " ('store1', 89948802, 59, '2021-07-05'),\n",
       " ('store3', 89948803, 325, '2021-07-05'),\n",
       " ('store4', 89948804, 665, '2021-07-05'),\n",
       " ('store1', 89948805, 45, '2021-07-05'),\n",
       " ('store2', 89948806, 268, '2021-07-05'),\n",
       " ('store6', 89948807, 42, '2021-07-05'),\n",
       " ('store2', 89948808, 264, '2021-07-05'),\n",
       " ('store10', 89948809, 17, '2021-07-05'),\n",
       " ('store5', 89948810, 83, '2021-07-05'),\n",
       " ('store9', 89948811, 199, '2021-07-05'),\n",
       " ('store1', 89948812, 20, '2021-07-05'),\n",
       " ('store8', 89948813, 26, '2021-07-05'),\n",
       " ('store1', 89948814, 125, '2021-07-06'),\n",
       " ('store2', 89948815, 317, '2021-07-06'),\n",
       " ('store1', 89948816, 43, '2021-07-06'),\n",
       " ('store4', 89948817, 720, '2021-07-06'),\n",
       " ('store2', 89948818, 163, '2021-07-06'),\n",
       " ('store8', 89948819, 663, '2021-07-06'),\n",
       " ('store6', 89948820, 23, '2021-07-06')]"
      ]
     },
     "execution_count": 56,
     "metadata": {},
     "output_type": "execute_result"
    }
   ],
   "source": [
    "store_records = store.to_records(index=False).tolist()\n",
    "store_records  # with datetime format revised"
   ]
  },
  {
   "cell_type": "markdown",
   "metadata": {},
   "source": [
    "### 2. Connect to MySQL server"
   ]
  },
  {
   "cell_type": "code",
   "execution_count": 23,
   "metadata": {
    "ExecuteTime": {
     "end_time": "2021-07-07T01:02:15.332197Z",
     "start_time": "2021-07-07T01:02:15.311850Z"
    },
    "scrolled": true
   },
   "outputs": [
    {
     "name": "stdout",
     "output_type": "stream",
     "text": [
      "INSERT INTO area_table (store_id, area, leader_id) VALUES (\"store1\", \"alpha\", 139844)\n",
      "INSERT INTO area_table (store_id, area, leader_id) VALUES (\"store2\", \"alpha\", 44311)\n",
      "INSERT INTO area_table (store_id, area, leader_id) VALUES (\"store3\", \"alpha\", 951837)\n",
      "INSERT INTO area_table (store_id, area, leader_id) VALUES (\"store4\", \"alpha\", 298987)\n",
      "INSERT INTO area_table (store_id, area, leader_id) VALUES (\"store5\", \"beta\", 774548)\n",
      "INSERT INTO area_table (store_id, area, leader_id) VALUES (\"store6\", \"beta\", 974663)\n",
      "INSERT INTO area_table (store_id, area, leader_id) VALUES (\"store7\", \"beta\", 550242)\n",
      "INSERT INTO area_table (store_id, area, leader_id) VALUES (\"store8\", \"beta\", 735906)\n",
      "INSERT INTO area_table (store_id, area, leader_id) VALUES (\"store9\", \"beta\", 813931)\n",
      "INSERT INTO area_table (store_id, area, leader_id) VALUES (\"store10\", \"beta\", 269966)\n",
      "INSERT INTO area_table (store_id, area, leader_id) VALUES (\"store11\", \"beta\", 442066)\n",
      "INSERT INTO area_table (store_id, area, leader_id) VALUES (\"store12\", \"gamma\", 52404)\n",
      "INSERT INTO area_table (store_id, area, leader_id) VALUES (\"store13\", \"gamma\", 250697)\n",
      "INSERT INTO area_table (store_id, area, leader_id) VALUES (\"store14\", \"gamma\", 733530)\n",
      "INSERT INTO area_table (store_id, area, leader_id) VALUES (\"store15\", \"gamma\", 356103)\n",
      "INSERT INTO area_table (store_id, area, leader_id) VALUES (\"store16\", \"gamma\", 770287)\n"
     ]
    }
   ],
   "source": [
    "connect = pymysql.connect(host='localhost', \n",
    "                          user='root', \n",
    "                          passwd='Chouchou186', \n",
    "                          database='homework_20210707')\n",
    "mycursor = connect.cursor()\n",
    "\n",
    "for row in area_records:\n",
    "    sql = 'INSERT INTO area_table (store_id, area, leader_id) VALUES (\"{0}\", \"{1}\", {2})'.format(row[0], row[1], row[2])\n",
    "    print(sql)\n",
    "    mycursor.execute(sql)\n",
    "connect.commit()"
   ]
  },
  {
   "cell_type": "code",
   "execution_count": 58,
   "metadata": {
    "ExecuteTime": {
     "end_time": "2021-07-07T02:14:12.901914Z",
     "start_time": "2021-07-07T02:14:12.838686Z"
    }
   },
   "outputs": [
    {
     "name": "stdout",
     "output_type": "stream",
     "text": [
      "INSERT INTO store_table (store_id, order_id, sales_volume, salesdate) VALUES (\"store8\", \"89948724\", 499, \"2021-06-25\")\n",
      "INSERT INTO store_table (store_id, order_id, sales_volume, salesdate) VALUES (\"store1\", \"89948725\", 617, \"2021-06-25\")\n",
      "INSERT INTO store_table (store_id, order_id, sales_volume, salesdate) VALUES (\"store9\", \"89948726\", 569, \"2021-06-25\")\n",
      "INSERT INTO store_table (store_id, order_id, sales_volume, salesdate) VALUES (\"store3\", \"89948727\", 579, \"2021-06-25\")\n",
      "INSERT INTO store_table (store_id, order_id, sales_volume, salesdate) VALUES (\"store1\", \"89948728\", 76, \"2021-06-25\")\n",
      "INSERT INTO store_table (store_id, order_id, sales_volume, salesdate) VALUES (\"store7\", \"89948729\", 228, \"2021-06-25\")\n",
      "INSERT INTO store_table (store_id, order_id, sales_volume, salesdate) VALUES (\"store2\", \"89948730\", 557, \"2021-06-26\")\n",
      "INSERT INTO store_table (store_id, order_id, sales_volume, salesdate) VALUES (\"store6\", \"89948731\", 177, \"2021-06-26\")\n",
      "INSERT INTO store_table (store_id, order_id, sales_volume, salesdate) VALUES (\"store10\", \"89948732\", 18, \"2021-06-26\")\n",
      "INSERT INTO store_table (store_id, order_id, sales_volume, salesdate) VALUES (\"store7\", \"89948733\", 309, \"2021-06-26\")\n",
      "INSERT INTO store_table (store_id, order_id, sales_volume, salesdate) VALUES (\"store1\", \"89948734\", 984, \"2021-06-26\")\n",
      "INSERT INTO store_table (store_id, order_id, sales_volume, salesdate) VALUES (\"store1\", \"89948735\", 999, \"2021-06-26\")\n",
      "INSERT INTO store_table (store_id, order_id, sales_volume, salesdate) VALUES (\"store1\", \"89948736\", 163, \"2021-06-26\")\n",
      "INSERT INTO store_table (store_id, order_id, sales_volume, salesdate) VALUES (\"store1\", \"89948737\", 206, \"2021-06-26\")\n",
      "INSERT INTO store_table (store_id, order_id, sales_volume, salesdate) VALUES (\"store5\", \"89948738\", 977, \"2021-06-26\")\n",
      "INSERT INTO store_table (store_id, order_id, sales_volume, salesdate) VALUES (\"store6\", \"89948739\", 884, \"2021-06-26\")\n",
      "INSERT INTO store_table (store_id, order_id, sales_volume, salesdate) VALUES (\"store1\", \"89948740\", 185, \"2021-06-26\")\n",
      "INSERT INTO store_table (store_id, order_id, sales_volume, salesdate) VALUES (\"store2\", \"89948741\", 37, \"2021-06-27\")\n",
      "INSERT INTO store_table (store_id, order_id, sales_volume, salesdate) VALUES (\"store3\", \"89948742\", 565, \"2021-06-27\")\n",
      "INSERT INTO store_table (store_id, order_id, sales_volume, salesdate) VALUES (\"store3\", \"89948743\", 295, \"2021-06-27\")\n",
      "INSERT INTO store_table (store_id, order_id, sales_volume, salesdate) VALUES (\"store6\", \"89948744\", 985, \"2021-06-27\")\n",
      "INSERT INTO store_table (store_id, order_id, sales_volume, salesdate) VALUES (\"store8\", \"89948745\", 874, \"2021-06-27\")\n",
      "INSERT INTO store_table (store_id, order_id, sales_volume, salesdate) VALUES (\"store4\", \"89948746\", 837, \"2021-06-27\")\n",
      "INSERT INTO store_table (store_id, order_id, sales_volume, salesdate) VALUES (\"store2\", \"89948747\", 754, \"2021-06-27\")\n",
      "INSERT INTO store_table (store_id, order_id, sales_volume, salesdate) VALUES (\"store2\", \"89948748\", 167, \"2021-06-28\")\n",
      "INSERT INTO store_table (store_id, order_id, sales_volume, salesdate) VALUES (\"store9\", \"89948749\", 81, \"2021-06-28\")\n",
      "INSERT INTO store_table (store_id, order_id, sales_volume, salesdate) VALUES (\"store1\", \"89948750\", 648, \"2021-06-28\")\n",
      "INSERT INTO store_table (store_id, order_id, sales_volume, salesdate) VALUES (\"store4\", \"89948751\", 651, \"2021-06-28\")\n",
      "INSERT INTO store_table (store_id, order_id, sales_volume, salesdate) VALUES (\"store10\", \"89948752\", 616, \"2021-06-28\")\n",
      "INSERT INTO store_table (store_id, order_id, sales_volume, salesdate) VALUES (\"store7\", \"89948753\", 643, \"2021-06-28\")\n",
      "INSERT INTO store_table (store_id, order_id, sales_volume, salesdate) VALUES (\"store3\", \"89948754\", 654, \"2021-06-28\")\n",
      "INSERT INTO store_table (store_id, order_id, sales_volume, salesdate) VALUES (\"store10\", \"89948755\", 185, \"2021-06-28\")\n",
      "INSERT INTO store_table (store_id, order_id, sales_volume, salesdate) VALUES (\"store5\", \"89948756\", 2, \"2021-06-28\")\n",
      "INSERT INTO store_table (store_id, order_id, sales_volume, salesdate) VALUES (\"store5\", \"89948757\", 448, \"2021-06-29\")\n",
      "INSERT INTO store_table (store_id, order_id, sales_volume, salesdate) VALUES (\"store6\", \"89948758\", 732, \"2021-06-29\")\n",
      "INSERT INTO store_table (store_id, order_id, sales_volume, salesdate) VALUES (\"store4\", \"89948759\", 112, \"2021-06-29\")\n",
      "INSERT INTO store_table (store_id, order_id, sales_volume, salesdate) VALUES (\"store10\", \"89948760\", 893, \"2021-06-29\")\n",
      "INSERT INTO store_table (store_id, order_id, sales_volume, salesdate) VALUES (\"store10\", \"89948761\", 665, \"2021-06-29\")\n",
      "INSERT INTO store_table (store_id, order_id, sales_volume, salesdate) VALUES (\"store10\", \"89948762\", 301, \"2021-06-29\")\n",
      "INSERT INTO store_table (store_id, order_id, sales_volume, salesdate) VALUES (\"store5\", \"89948763\", 161, \"2021-06-30\")\n",
      "INSERT INTO store_table (store_id, order_id, sales_volume, salesdate) VALUES (\"store6\", \"89948764\", 268, \"2021-06-30\")\n",
      "INSERT INTO store_table (store_id, order_id, sales_volume, salesdate) VALUES (\"store3\", \"89948765\", 84, \"2021-06-30\")\n",
      "INSERT INTO store_table (store_id, order_id, sales_volume, salesdate) VALUES (\"store2\", \"89948766\", 636, \"2021-06-30\")\n",
      "INSERT INTO store_table (store_id, order_id, sales_volume, salesdate) VALUES (\"store5\", \"89948767\", 789, \"2021-06-30\")\n",
      "INSERT INTO store_table (store_id, order_id, sales_volume, salesdate) VALUES (\"store7\", \"89948768\", 920, \"2021-06-30\")\n",
      "INSERT INTO store_table (store_id, order_id, sales_volume, salesdate) VALUES (\"store10\", \"89948769\", 930, \"2021-06-30\")\n",
      "INSERT INTO store_table (store_id, order_id, sales_volume, salesdate) VALUES (\"store3\", \"89948770\", 518, \"2021-06-30\")\n",
      "INSERT INTO store_table (store_id, order_id, sales_volume, salesdate) VALUES (\"store5\", \"89948771\", 970, \"2021-06-30\")\n",
      "INSERT INTO store_table (store_id, order_id, sales_volume, salesdate) VALUES (\"store9\", \"89948772\", 762, \"2021-07-01\")\n",
      "INSERT INTO store_table (store_id, order_id, sales_volume, salesdate) VALUES (\"store10\", \"89948773\", 9, \"2021-07-01\")\n",
      "INSERT INTO store_table (store_id, order_id, sales_volume, salesdate) VALUES (\"store9\", \"89948774\", 194, \"2021-07-01\")\n",
      "INSERT INTO store_table (store_id, order_id, sales_volume, salesdate) VALUES (\"store9\", \"89948775\", 253, \"2021-07-01\")\n",
      "INSERT INTO store_table (store_id, order_id, sales_volume, salesdate) VALUES (\"store7\", \"89948776\", 723, \"2021-07-01\")\n",
      "INSERT INTO store_table (store_id, order_id, sales_volume, salesdate) VALUES (\"store7\", \"89948777\", 911, \"2021-07-01\")\n",
      "INSERT INTO store_table (store_id, order_id, sales_volume, salesdate) VALUES (\"store8\", \"89948778\", 335, \"2021-07-01\")\n",
      "INSERT INTO store_table (store_id, order_id, sales_volume, salesdate) VALUES (\"store1\", \"89948779\", 7, \"2021-07-02\")\n",
      "INSERT INTO store_table (store_id, order_id, sales_volume, salesdate) VALUES (\"store6\", \"89948780\", 368, \"2021-07-02\")\n",
      "INSERT INTO store_table (store_id, order_id, sales_volume, salesdate) VALUES (\"store1\", \"89948781\", 948, \"2021-07-02\")\n",
      "INSERT INTO store_table (store_id, order_id, sales_volume, salesdate) VALUES (\"store5\", \"89948782\", 855, \"2021-07-02\")\n",
      "INSERT INTO store_table (store_id, order_id, sales_volume, salesdate) VALUES (\"store6\", \"89948783\", 870, \"2021-07-02\")\n",
      "INSERT INTO store_table (store_id, order_id, sales_volume, salesdate) VALUES (\"store3\", \"89948784\", 189, \"2021-07-02\")\n",
      "INSERT INTO store_table (store_id, order_id, sales_volume, salesdate) VALUES (\"store9\", \"89948785\", 132, \"2021-07-02\")\n",
      "INSERT INTO store_table (store_id, order_id, sales_volume, salesdate) VALUES (\"store8\", \"89948786\", 137, \"2021-07-02\")\n",
      "INSERT INTO store_table (store_id, order_id, sales_volume, salesdate) VALUES (\"store1\", \"89948787\", 728, \"2021-07-02\")\n",
      "INSERT INTO store_table (store_id, order_id, sales_volume, salesdate) VALUES (\"store5\", \"89948788\", 376, \"2021-07-03\")\n",
      "INSERT INTO store_table (store_id, order_id, sales_volume, salesdate) VALUES (\"store8\", \"89948789\", 882, \"2021-07-03\")\n",
      "INSERT INTO store_table (store_id, order_id, sales_volume, salesdate) VALUES (\"store7\", \"89948790\", 187, \"2021-07-03\")\n",
      "INSERT INTO store_table (store_id, order_id, sales_volume, salesdate) VALUES (\"store2\", \"89948791\", 489, \"2021-07-03\")\n",
      "INSERT INTO store_table (store_id, order_id, sales_volume, salesdate) VALUES (\"store3\", \"89948792\", 639, \"2021-07-03\")\n",
      "INSERT INTO store_table (store_id, order_id, sales_volume, salesdate) VALUES (\"store1\", \"89948793\", 558, \"2021-07-03\")\n",
      "INSERT INTO store_table (store_id, order_id, sales_volume, salesdate) VALUES (\"store3\", \"89948794\", 487, \"2021-07-03\")\n",
      "INSERT INTO store_table (store_id, order_id, sales_volume, salesdate) VALUES (\"store2\", \"89948795\", 719, \"2021-07-04\")\n",
      "INSERT INTO store_table (store_id, order_id, sales_volume, salesdate) VALUES (\"store9\", \"89948796\", 652, \"2021-07-04\")\n",
      "INSERT INTO store_table (store_id, order_id, sales_volume, salesdate) VALUES (\"store9\", \"89948797\", 703, \"2021-07-04\")\n",
      "INSERT INTO store_table (store_id, order_id, sales_volume, salesdate) VALUES (\"store6\", \"89948798\", 340, \"2021-07-04\")\n",
      "INSERT INTO store_table (store_id, order_id, sales_volume, salesdate) VALUES (\"store7\", \"89948799\", 510, \"2021-07-04\")\n",
      "INSERT INTO store_table (store_id, order_id, sales_volume, salesdate) VALUES (\"store8\", \"89948800\", 701, \"2021-07-04\")\n",
      "INSERT INTO store_table (store_id, order_id, sales_volume, salesdate) VALUES (\"store1\", \"89948801\", 52, \"2021-07-04\")\n",
      "INSERT INTO store_table (store_id, order_id, sales_volume, salesdate) VALUES (\"store1\", \"89948802\", 59, \"2021-07-05\")\n",
      "INSERT INTO store_table (store_id, order_id, sales_volume, salesdate) VALUES (\"store3\", \"89948803\", 325, \"2021-07-05\")\n",
      "INSERT INTO store_table (store_id, order_id, sales_volume, salesdate) VALUES (\"store4\", \"89948804\", 665, \"2021-07-05\")\n",
      "INSERT INTO store_table (store_id, order_id, sales_volume, salesdate) VALUES (\"store1\", \"89948805\", 45, \"2021-07-05\")\n",
      "INSERT INTO store_table (store_id, order_id, sales_volume, salesdate) VALUES (\"store2\", \"89948806\", 268, \"2021-07-05\")\n",
      "INSERT INTO store_table (store_id, order_id, sales_volume, salesdate) VALUES (\"store6\", \"89948807\", 42, \"2021-07-05\")\n",
      "INSERT INTO store_table (store_id, order_id, sales_volume, salesdate) VALUES (\"store2\", \"89948808\", 264, \"2021-07-05\")\n",
      "INSERT INTO store_table (store_id, order_id, sales_volume, salesdate) VALUES (\"store10\", \"89948809\", 17, \"2021-07-05\")\n",
      "INSERT INTO store_table (store_id, order_id, sales_volume, salesdate) VALUES (\"store5\", \"89948810\", 83, \"2021-07-05\")\n",
      "INSERT INTO store_table (store_id, order_id, sales_volume, salesdate) VALUES (\"store9\", \"89948811\", 199, \"2021-07-05\")\n",
      "INSERT INTO store_table (store_id, order_id, sales_volume, salesdate) VALUES (\"store1\", \"89948812\", 20, \"2021-07-05\")\n",
      "INSERT INTO store_table (store_id, order_id, sales_volume, salesdate) VALUES (\"store8\", \"89948813\", 26, \"2021-07-05\")\n",
      "INSERT INTO store_table (store_id, order_id, sales_volume, salesdate) VALUES (\"store1\", \"89948814\", 125, \"2021-07-06\")\n",
      "INSERT INTO store_table (store_id, order_id, sales_volume, salesdate) VALUES (\"store2\", \"89948815\", 317, \"2021-07-06\")\n",
      "INSERT INTO store_table (store_id, order_id, sales_volume, salesdate) VALUES (\"store1\", \"89948816\", 43, \"2021-07-06\")\n",
      "INSERT INTO store_table (store_id, order_id, sales_volume, salesdate) VALUES (\"store4\", \"89948817\", 720, \"2021-07-06\")\n",
      "INSERT INTO store_table (store_id, order_id, sales_volume, salesdate) VALUES (\"store2\", \"89948818\", 163, \"2021-07-06\")\n",
      "INSERT INTO store_table (store_id, order_id, sales_volume, salesdate) VALUES (\"store8\", \"89948819\", 663, \"2021-07-06\")\n",
      "INSERT INTO store_table (store_id, order_id, sales_volume, salesdate) VALUES (\"store6\", \"89948820\", 23, \"2021-07-06\")\n"
     ]
    }
   ],
   "source": [
    "# connect = pymysql.connect(host='localhost', \n",
    "#                           user='root', \n",
    "#                           passwd='Chouchou186', \n",
    "#                           database='homework_20210707')\n",
    "# mycursor = connect.cursor()\n",
    "\n",
    "for row in store_records:\n",
    "    sql = 'INSERT INTO store_table (store_id, order_id, sales_volume, salesdate) VALUES (\"{0}\", \"{1}\", {2}, \"{3}\")'.format(row[0], row[1], row[2], row[3])\n",
    "    print(sql)\n",
    "    mycursor.execute(sql)\n",
    "\n",
    "connect.commit()"
   ]
  },
  {
   "cell_type": "code",
   "execution_count": 59,
   "metadata": {
    "ExecuteTime": {
     "end_time": "2021-07-07T02:15:19.462126Z",
     "start_time": "2021-07-07T02:15:19.458747Z"
    }
   },
   "outputs": [],
   "source": [
    "# close\n",
    "mycursor.close()\n",
    "connect.close()"
   ]
  },
  {
   "cell_type": "code",
   "execution_count": null,
   "metadata": {},
   "outputs": [],
   "source": []
  }
 ],
 "metadata": {
  "kernelspec": {
   "display_name": "Python 3",
   "language": "python",
   "name": "python3"
  },
  "language_info": {
   "codemirror_mode": {
    "name": "ipython",
    "version": 3
   },
   "file_extension": ".py",
   "mimetype": "text/x-python",
   "name": "python",
   "nbconvert_exporter": "python",
   "pygments_lexer": "ipython3",
   "version": "3.8.3"
  },
  "toc": {
   "base_numbering": 1,
   "nav_menu": {},
   "number_sections": false,
   "sideBar": true,
   "skip_h1_title": false,
   "title_cell": "Table of Contents",
   "title_sidebar": "Contents",
   "toc_cell": false,
   "toc_position": {},
   "toc_section_display": true,
   "toc_window_display": true
  }
 },
 "nbformat": 4,
 "nbformat_minor": 4
}
