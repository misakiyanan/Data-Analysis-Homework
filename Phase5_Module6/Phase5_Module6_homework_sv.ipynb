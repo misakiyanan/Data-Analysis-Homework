{
 "cells": [
  {
   "cell_type": "code",
   "execution_count": 1,
   "metadata": {
    "ExecuteTime": {
     "end_time": "2021-07-26T02:06:10.861070Z",
     "start_time": "2021-07-26T02:06:09.449154Z"
    }
   },
   "outputs": [],
   "source": [
    "import pandas as pd\n",
    "\n",
    "import requests\n",
    "import lxml.etree as le"
   ]
  },
  {
   "cell_type": "code",
   "execution_count": 2,
   "metadata": {
    "ExecuteTime": {
     "end_time": "2021-07-26T02:08:00.521545Z",
     "start_time": "2021-07-26T02:08:00.518052Z"
    }
   },
   "outputs": [],
   "source": [
    "url = 'https://www.runoob.com/html/html-tutorial.html'\n",
    "x = '//div[@id=\"leftcolumn\"]/a/text()'\n",
    "y = '//div[@id=\"leftcolumn\"]/a/@href'"
   ]
  },
  {
   "cell_type": "code",
   "execution_count": 3,
   "metadata": {
    "ExecuteTime": {
     "end_time": "2021-07-26T02:08:24.082996Z",
     "start_time": "2021-07-26T02:08:23.319576Z"
    }
   },
   "outputs": [],
   "source": [
    "content = requests.get(url = url).content\n",
    "contentx = le.HTML(content)"
   ]
  },
  {
   "cell_type": "code",
   "execution_count": 4,
   "metadata": {
    "ExecuteTime": {
     "end_time": "2021-07-26T02:09:22.988957Z",
     "start_time": "2021-07-26T02:09:22.985154Z"
    }
   },
   "outputs": [],
   "source": [
    "categories = contentx.xpath(x)\n",
    "links = contentx.xpath(y)\n"
   ]
  },
  {
   "cell_type": "code",
   "execution_count": 6,
   "metadata": {
    "ExecuteTime": {
     "end_time": "2021-07-26T02:10:09.246542Z",
     "start_time": "2021-07-26T02:10:09.243952Z"
    }
   },
   "outputs": [],
   "source": [
    "cate_lst = list()\n",
    "link_lst = list()"
   ]
  },
  {
   "cell_type": "code",
   "execution_count": 7,
   "metadata": {
    "ExecuteTime": {
     "end_time": "2021-07-26T02:11:48.968657Z",
     "start_time": "2021-07-26T02:11:48.965011Z"
    }
   },
   "outputs": [],
   "source": [
    "for cat in categories:\n",
    "    cate_lst.append(cat.strip())\n",
    "\n",
    "for link in links:\n",
    "    link_lst.append(url+link.strip())\n"
   ]
  },
  {
   "cell_type": "code",
   "execution_count": 10,
   "metadata": {
    "ExecuteTime": {
     "end_time": "2021-07-26T02:13:19.121213Z",
     "start_time": "2021-07-26T02:13:19.081915Z"
    }
   },
   "outputs": [
    {
     "data": {
      "text/html": [
       "<div>\n",
       "<style scoped>\n",
       "    .dataframe tbody tr th:only-of-type {\n",
       "        vertical-align: middle;\n",
       "    }\n",
       "\n",
       "    .dataframe tbody tr th {\n",
       "        vertical-align: top;\n",
       "    }\n",
       "\n",
       "    .dataframe thead th {\n",
       "        text-align: right;\n",
       "    }\n",
       "</style>\n",
       "<table border=\"1\" class=\"dataframe\">\n",
       "  <thead>\n",
       "    <tr style=\"text-align: right;\">\n",
       "      <th></th>\n",
       "      <th>category</th>\n",
       "      <th>link</th>\n",
       "    </tr>\n",
       "  </thead>\n",
       "  <tbody>\n",
       "    <tr>\n",
       "      <th>0</th>\n",
       "      <td>HTML 教程</td>\n",
       "      <td>https://www.runoob.com/html/html-tutorial.html...</td>\n",
       "    </tr>\n",
       "    <tr>\n",
       "      <th>1</th>\n",
       "      <td>HTML 简介</td>\n",
       "      <td>https://www.runoob.com/html/html-tutorial.html...</td>\n",
       "    </tr>\n",
       "    <tr>\n",
       "      <th>2</th>\n",
       "      <td>HTML 编辑器</td>\n",
       "      <td>https://www.runoob.com/html/html-tutorial.html...</td>\n",
       "    </tr>\n",
       "    <tr>\n",
       "      <th>3</th>\n",
       "      <td>HTML 基础</td>\n",
       "      <td>https://www.runoob.com/html/html-tutorial.html...</td>\n",
       "    </tr>\n",
       "    <tr>\n",
       "      <th>4</th>\n",
       "      <td>HTML 元素</td>\n",
       "      <td>https://www.runoob.com/html/html-tutorial.html...</td>\n",
       "    </tr>\n",
       "    <tr>\n",
       "      <th>...</th>\n",
       "      <td>...</td>\n",
       "      <td>...</td>\n",
       "    </tr>\n",
       "    <tr>\n",
       "      <th>69</th>\n",
       "      <td>HTML URL 编码</td>\n",
       "      <td>https://www.runoob.com/html/html-tutorial.html...</td>\n",
       "    </tr>\n",
       "    <tr>\n",
       "      <th>70</th>\n",
       "      <td>HTML 语言代码</td>\n",
       "      <td>https://www.runoob.com/html/html-tutorial.html...</td>\n",
       "    </tr>\n",
       "    <tr>\n",
       "      <th>71</th>\n",
       "      <td>HTTP 消息</td>\n",
       "      <td>https://www.runoob.com/html/html-tutorial.html...</td>\n",
       "    </tr>\n",
       "    <tr>\n",
       "      <th>72</th>\n",
       "      <td>HTTP 方法</td>\n",
       "      <td>https://www.runoob.com/html/html-tutorial.html...</td>\n",
       "    </tr>\n",
       "    <tr>\n",
       "      <th>73</th>\n",
       "      <td>键盘快捷键</td>\n",
       "      <td>https://www.runoob.com/html/html-tutorial.html...</td>\n",
       "    </tr>\n",
       "  </tbody>\n",
       "</table>\n",
       "<p>74 rows × 2 columns</p>\n",
       "</div>"
      ],
      "text/plain": [
       "       category                                               link\n",
       "0       HTML 教程  https://www.runoob.com/html/html-tutorial.html...\n",
       "1       HTML 简介  https://www.runoob.com/html/html-tutorial.html...\n",
       "2      HTML 编辑器  https://www.runoob.com/html/html-tutorial.html...\n",
       "3       HTML 基础  https://www.runoob.com/html/html-tutorial.html...\n",
       "4       HTML 元素  https://www.runoob.com/html/html-tutorial.html...\n",
       "..          ...                                                ...\n",
       "69  HTML URL 编码  https://www.runoob.com/html/html-tutorial.html...\n",
       "70    HTML 语言代码  https://www.runoob.com/html/html-tutorial.html...\n",
       "71      HTTP 消息  https://www.runoob.com/html/html-tutorial.html...\n",
       "72      HTTP 方法  https://www.runoob.com/html/html-tutorial.html...\n",
       "73        键盘快捷键  https://www.runoob.com/html/html-tutorial.html...\n",
       "\n",
       "[74 rows x 2 columns]"
      ]
     },
     "execution_count": 10,
     "metadata": {},
     "output_type": "execute_result"
    }
   ],
   "source": [
    "results = pd.DataFrame(columns=['category', 'link'])\n",
    "results['category'] = cate_lst\n",
    "results['link'] = link_lst\n",
    "results"
   ]
  },
  {
   "cell_type": "code",
   "execution_count": 12,
   "metadata": {
    "ExecuteTime": {
     "end_time": "2021-07-26T02:15:24.321757Z",
     "start_time": "2021-07-26T02:15:24.311795Z"
    }
   },
   "outputs": [
    {
     "name": "stderr",
     "output_type": "stream",
     "text": [
      "<ipython-input-12-47cc0c05c1b4>:1: FutureWarning: As the xlwt package is no longer maintained, the xlwt engine will be removed in a future version of pandas. This is the only engine in pandas that supports writing in the xls format. Install openpyxl and write to an xlsx file instead. You can set the option io.excel.xls.writer to 'xlwt' to silence this warning. While this option is deprecated and will also raise a warning, it can be globally set and the warning suppressed.\n",
      "  results.to_excel('runoob_tutorial_links.xls', index=False)\n"
     ]
    }
   ],
   "source": [
    "results.to_excel('runoob_tutorial_links.xls', index=False)"
   ]
  },
  {
   "cell_type": "code",
   "execution_count": null,
   "metadata": {},
   "outputs": [],
   "source": []
  }
 ],
 "metadata": {
  "kernelspec": {
   "display_name": "Python 3",
   "language": "python",
   "name": "python3"
  },
  "language_info": {
   "codemirror_mode": {
    "name": "ipython",
    "version": 3
   },
   "file_extension": ".py",
   "mimetype": "text/x-python",
   "name": "python",
   "nbconvert_exporter": "python",
   "pygments_lexer": "ipython3",
   "version": "3.8.3"
  },
  "toc": {
   "base_numbering": 1,
   "nav_menu": {},
   "number_sections": true,
   "sideBar": true,
   "skip_h1_title": false,
   "title_cell": "Table of Contents",
   "title_sidebar": "Contents",
   "toc_cell": false,
   "toc_position": {},
   "toc_section_display": true,
   "toc_window_display": false
  }
 },
 "nbformat": 4,
 "nbformat_minor": 4
}
